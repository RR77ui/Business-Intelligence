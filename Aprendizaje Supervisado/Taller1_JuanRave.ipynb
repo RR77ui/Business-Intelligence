{
  "nbformat": 4,
  "nbformat_minor": 0,
  "metadata": {
    "colab": {
      "provenance": []
    },
    "kernelspec": {
      "name": "python3",
      "display_name": "Python 3"
    },
    "language_info": {
      "name": "python"
    }
  },
  "cells": [
    {
      "cell_type": "markdown",
      "source": [
        "# Taller 1\n",
        "\n",
        "**Fecha de entrega:** Miércoles 6 de agosto\n",
        "\n",
        "Se tiene un conjunto de datos de 1500 registros con las siguientes variables:\n",
        "\n",
        "- edad_cliente (años)\n",
        "- tiempo_como_cliente_meses\n",
        "- ingresos_mensuales (dolares)\n",
        "- visitas_mensuales_sitio_web\n",
        "- contactos (call-center)\n",
        "- nivel_educativo (1:primaria, 2:secundaria, 3:tecnico-tecnologico, 4:universitario, 5 posgrado)\n",
        "- uso_tarjeta_credito (1: Si, 0: No)\n",
        "- participa_en_promociones (1: Si, 0: No)\n",
        "- calificacion_satisfaccion (1-5, donde 1 es muy bajo y 5 es excelente)\n",
        "- descuento_promedio_usado (%)\n",
        "- ventas_cliente (Ventas promedio al cliente en dolares)\n",
        "\n",
        "\n",
        "Se espera que el cientifico de datos presente el mejor modelo de regresión posible para predecir las ventas del cliente, con el respectivo informe ejecutivo para el gerente.\n",
        "Se deben validar todos los supuestos de la regresión y que esta no presente problemas.\n"
      ],
      "metadata": {
        "id": "qyFpeRvCf_U4"
      }
    },
    {
      "cell_type": "markdown",
      "source": [
        "1. Cargar librerias"
      ],
      "metadata": {
        "id": "kZOfgOYdNpYA"
      }
    },
    {
      "cell_type": "code",
      "source": [
        "import numpy as np\n",
        "import pandas as pd\n",
        "import sklearn.linear_model as LinearRegression\n",
        "import matplotlib.pyplot as plt\n",
        "import statsmodels.api as sm\n",
        "import scipy.stats as stats"
      ],
      "metadata": {
        "id": "Gs2-ntT3Nw6R"
      },
      "execution_count": null,
      "outputs": []
    },
    {
      "cell_type": "markdown",
      "source": [
        "2. Cargar datos"
      ],
      "metadata": {
        "id": "PO1c8Wf8Otpc"
      }
    },
    {
      "cell_type": "code",
      "source": [
        "from google.colab import drive\n",
        "drive.mount('/content/drive')"
      ],
      "metadata": {
        "id": "AIAjLkuVOpPK",
        "colab": {
          "base_uri": "https://localhost:8080/"
        },
        "outputId": "99f0fb5d-17f2-4855-eb2e-83638a419656"
      },
      "execution_count": null,
      "outputs": [
        {
          "output_type": "stream",
          "name": "stdout",
          "text": [
            "Mounted at /content/drive\n"
          ]
        }
      ]
    },
    {
      "cell_type": "code",
      "source": [
        "df=pd.read_csv('/content/drive/MyDrive/Aprendizaje Supervisado/dataset_regresion_ventas.csv')\n",
        "df.head()\n",
        "df.columns"
      ],
      "metadata": {
        "colab": {
          "base_uri": "https://localhost:8080/"
        },
        "id": "kCD5bFOGPFkY",
        "outputId": "be8689f8-143d-488c-ac13-f94f18d7c79e"
      },
      "execution_count": null,
      "outputs": [
        {
          "output_type": "execute_result",
          "data": {
            "text/plain": [
              "Index(['edad_cliente', 'tiempo_como_cliente_meses', 'ingresos_mensuales',\n",
              "       'visitas_mensuales_sitio_web', 'contactos', 'nivel_educativo',\n",
              "       'uso_tarjeta_credito', 'participa_en_promociones',\n",
              "       'calificacion_satisfaccion', 'descuento_promedio_usado',\n",
              "       'ventas_cliente'],\n",
              "      dtype='object')"
            ]
          },
          "metadata": {},
          "execution_count": 4
        }
      ]
    },
    {
      "cell_type": "code",
      "source": [
        "train=df.sample(frac=0.7,random_state=200)\n",
        "test=df.drop(train.index)"
      ],
      "metadata": {
        "id": "VQBBAmC4gfwG"
      },
      "execution_count": null,
      "outputs": []
    },
    {
      "cell_type": "markdown",
      "source": [
        "3. Regresion Lineal Train"
      ],
      "metadata": {
        "id": "zFPvwvgXRHRu"
      }
    },
    {
      "cell_type": "code",
      "source": [
        "yt=train['ventas_cliente']\n",
        "xt=train[['edad_cliente','tiempo_como_cliente_meses','ingresos_mensuales','visitas_mensuales_sitio_web','descuento_promedio_usado']]\n",
        "\n",
        "xt=np.array(xt)\n",
        "yt=np.array(yt)\n",
        "\n",
        "modelotrain=LinearRegression.LinearRegression()\n",
        "modelotrain.fit(xt, yt)\n",
        "\n",
        "print('Intercerp(a):',modelotrain.intercept_)\n",
        "print('Coeficientes(b):',modelotrain.coef_)"
      ],
      "metadata": {
        "colab": {
          "base_uri": "https://localhost:8080/"
        },
        "id": "rWNr9y0PRQBl",
        "outputId": "e9bfcd1c-4d98-475d-f5a3-93d642e18934"
      },
      "execution_count": null,
      "outputs": [
        {
          "output_type": "stream",
          "name": "stdout",
          "text": [
            "Intercerp(a): 54.906703945207255\n",
            "Coeficientes(b): [2.55509010e+00 1.68806685e+00 3.28106727e-02 7.12056794e+00\n",
            " 3.39056072e+02]\n"
          ]
        }
      ]
    },
    {
      "cell_type": "markdown",
      "source": [
        "4. Modelo de regresion Train"
      ],
      "metadata": {
        "id": "QsPEDEFXQtvp"
      }
    },
    {
      "cell_type": "code",
      "source": [
        "x_constt=sm.add_constant(xt)\n",
        "modelo_smt=sm.OLS(yt,x_constt).fit()\n",
        "print(modelo_smt.summary())\n",
        "\n",
        "residuales = modelo_smt.resid\n",
        "print(\"\\nResiduales:\")\n",
        "print(residuales)"
      ],
      "metadata": {
        "colab": {
          "base_uri": "https://localhost:8080/"
        },
        "id": "S_B4ZD0idwch",
        "outputId": "b7ef2a6d-b807-4097-84af-a5c9b8df6a12"
      },
      "execution_count": null,
      "outputs": [
        {
          "output_type": "stream",
          "name": "stdout",
          "text": [
            "                            OLS Regression Results                            \n",
            "==============================================================================\n",
            "Dep. Variable:                      y   R-squared:                       0.412\n",
            "Model:                            OLS   Adj. R-squared:                  0.409\n",
            "Method:                 Least Squares   F-statistic:                     146.2\n",
            "Date:                Wed, 06 Aug 2025   Prob (F-statistic):          1.18e-117\n",
            "Time:                        13:28:53   Log-Likelihood:                -6326.9\n",
            "No. Observations:                1050   AIC:                         1.267e+04\n",
            "Df Residuals:                    1044   BIC:                         1.270e+04\n",
            "Df Model:                           5                                         \n",
            "Covariance Type:            nonrobust                                         \n",
            "==============================================================================\n",
            "                 coef    std err          t      P>|t|      [0.025      0.975]\n",
            "------------------------------------------------------------------------------\n",
            "const         54.9067     18.208      3.015      0.003      19.178      90.635\n",
            "x1             2.5551      0.205     12.461      0.000       2.153       2.957\n",
            "x2             1.6881      0.091     18.455      0.000       1.509       1.868\n",
            "x3             0.0328      0.004      8.028      0.000       0.025       0.041\n",
            "x4             7.1206      1.445      4.928      0.000       4.285       9.956\n",
            "x5           339.0561     32.048     10.580      0.000     276.170     401.942\n",
            "==============================================================================\n",
            "Omnibus:                        2.783   Durbin-Watson:                   2.035\n",
            "Prob(Omnibus):                  0.249   Jarque-Bera (JB):                2.442\n",
            "Skew:                          -0.021   Prob(JB):                        0.295\n",
            "Kurtosis:                       2.768   Cond. No.                     3.26e+04\n",
            "==============================================================================\n",
            "\n",
            "Notes:\n",
            "[1] Standard Errors assume that the covariance matrix of the errors is correctly specified.\n",
            "[2] The condition number is large, 3.26e+04. This might indicate that there are\n",
            "strong multicollinearity or other numerical problems.\n",
            "\n",
            "Residuales:\n",
            "[-197.69179704   68.81819131  181.61438076 ...   65.79640419  153.35776675\n",
            "   90.22801938]\n"
          ]
        }
      ]
    },
    {
      "cell_type": "markdown",
      "source": [
        "5. Regresion Lineal Test"
      ],
      "metadata": {
        "id": "7QXPRSk5pQ84"
      }
    },
    {
      "cell_type": "code",
      "source": [
        "y=test['ventas_cliente']\n",
        "x=test[['edad_cliente','tiempo_como_cliente_meses','ingresos_mensuales','visitas_mensuales_sitio_web','descuento_promedio_usado']]\n",
        "\n",
        "x=np.array(x)\n",
        "y=np.array(y)\n",
        "\n",
        "modelotest=LinearRegression.LinearRegression()\n",
        "modelotest.fit(x, y)\n",
        "\n",
        "print('Intercerp(a):',modelotest.intercept_)\n",
        "print('Coeficientes(b):',modelotest.coef_)"
      ],
      "metadata": {
        "colab": {
          "base_uri": "https://localhost:8080/"
        },
        "id": "LqE5WPiipesc",
        "outputId": "9af48518-ed8c-4306-8e69-68952cdd523b"
      },
      "execution_count": null,
      "outputs": [
        {
          "output_type": "stream",
          "name": "stdout",
          "text": [
            "Intercerp(a): 52.45807962643835\n",
            "Coeficientes(b): [2.30829468e+00 1.84316841e+00 3.59840875e-02 6.99931629e+00\n",
            " 2.92194250e+02]\n"
          ]
        }
      ]
    },
    {
      "cell_type": "markdown",
      "source": [
        "6. Modelo de regresion lineal Test\n",
        "\n"
      ],
      "metadata": {
        "id": "44_fDNEBp1Vt"
      }
    },
    {
      "cell_type": "code",
      "source": [
        "x_const=sm.add_constant(x)\n",
        "modelo_sm=sm.OLS(y,x_const).fit()\n",
        "print(modelo_sm.summary())\n",
        "\n",
        "residuales = modelo_sm.resid\n",
        "print(\"\\nResiduales:\")\n",
        "print(residuales)"
      ],
      "metadata": {
        "colab": {
          "base_uri": "https://localhost:8080/"
        },
        "id": "Zh1WYxrNp5Wi",
        "outputId": "2d81d284-6186-4adf-d711-c5be79dea611"
      },
      "execution_count": null,
      "outputs": [
        {
          "output_type": "stream",
          "name": "stdout",
          "text": [
            "                            OLS Regression Results                            \n",
            "==============================================================================\n",
            "Dep. Variable:                      y   R-squared:                       0.415\n",
            "Model:                            OLS   Adj. R-squared:                  0.409\n",
            "Method:                 Least Squares   F-statistic:                     63.09\n",
            "Date:                Wed, 06 Aug 2025   Prob (F-statistic):           1.20e-49\n",
            "Time:                        13:29:03   Log-Likelihood:                -2709.1\n",
            "No. Observations:                 450   AIC:                             5430.\n",
            "Df Residuals:                     444   BIC:                             5455.\n",
            "Df Model:                           5                                         \n",
            "Covariance Type:            nonrobust                                         \n",
            "==============================================================================\n",
            "                 coef    std err          t      P>|t|      [0.025      0.975]\n",
            "------------------------------------------------------------------------------\n",
            "const         52.4581     27.914      1.879      0.061      -2.402     107.318\n",
            "x1             2.3083      0.320      7.220      0.000       1.680       2.937\n",
            "x2             1.8432      0.139     13.277      0.000       1.570       2.116\n",
            "x3             0.0360      0.006      5.879      0.000       0.024       0.048\n",
            "x4             6.9993      2.158      3.243      0.001       2.758      11.241\n",
            "x5           292.1942     50.671      5.766      0.000     192.609     391.779\n",
            "==============================================================================\n",
            "Omnibus:                        1.368   Durbin-Watson:                   2.021\n",
            "Prob(Omnibus):                  0.505   Jarque-Bera (JB):                1.182\n",
            "Skew:                          -0.115   Prob(JB):                        0.554\n",
            "Kurtosis:                       3.100   Cond. No.                     3.32e+04\n",
            "==============================================================================\n",
            "\n",
            "Notes:\n",
            "[1] Standard Errors assume that the covariance matrix of the errors is correctly specified.\n",
            "[2] The condition number is large, 3.32e+04. This might indicate that there are\n",
            "strong multicollinearity or other numerical problems.\n",
            "\n",
            "Residuales:\n",
            "[-153.09075905   32.1089902  -100.22007384 -122.32049154 -112.35805578\n",
            "  -76.27151514   46.57364198  112.47285134   48.85465192   40.38597664\n",
            "  -39.05729146   38.77095649  -29.93012091   91.86201462  -36.43759133\n",
            "  -30.64738005  103.15811536  127.45782934  120.76085406  101.77971326\n",
            "  154.13484401   67.96077504   56.12986584   25.62291399  138.57868243\n",
            "  134.91305226  -66.75434721   19.04284833   97.55529496  -54.05615258\n",
            "   95.88657133  -57.43212722  186.2313844    88.26000861 -160.56622153\n",
            "   62.3957552     1.41338824  -34.60071032  203.19341573 -167.46533908\n",
            " -104.11949394    7.53604675   31.29257787  -75.82253329   -5.67332489\n",
            "  -72.37743299  -42.9628801  -106.45313377 -111.93946019  -74.96503364\n",
            "   -8.50677182  -56.33734396   71.52024746  133.21753303  -32.10768638\n",
            "   65.70057112  -59.50377153  -90.65088027  -75.38167985  -82.60614929\n",
            " -144.59334648   49.69968427 -108.81009241  -74.18405708 -216.30782758\n",
            "   48.83503672   -7.51604411  -83.76702874  -16.18085044  215.56041178\n",
            "   -7.13439172   85.35667502 -119.24680926  144.54864032 -136.99030274\n",
            "  -81.34109964  -75.3841088    48.01575625  -56.30360765  -10.29006441\n",
            "  -78.95801018  -81.89717334 -171.55783937  170.6045384    25.76941633\n",
            "  101.435721    -39.43735242 -150.10413557   32.07994207   19.20457543\n",
            "   44.51989433  -78.84219383  -42.44699743 -139.34448441  192.60379908\n",
            "   -6.0291849  -128.85722461   77.47191453   -6.46526723 -103.63022751\n",
            "  -86.31282032   61.36922775   41.36313606 -197.00675879  181.76861858\n",
            "  -76.72909449  152.8726266   -49.31854319  125.72572009  -47.52239489\n",
            "   58.13428665  100.92466738  -59.72359882  -41.91287826  121.16796441\n",
            "  -52.53364299  -23.69326029   70.52693234   19.41233256  137.71849446\n",
            "  -65.88344558   99.9673772    90.23997246  186.08850234  -34.55175549\n",
            "  -63.86306939 -128.62167017 -127.45141417  -66.16200235  -69.42062927\n",
            "   -0.82474701   66.90261893   27.79690711   72.03851927   27.57590658\n",
            "  -24.23051067 -103.54660636   62.08998198 -140.8996402   -53.51955514\n",
            "  -37.35497461   11.49522428  144.12484853 -167.09182457   86.12287962\n",
            " -129.87519332  -81.13635899  122.91911518   21.10141902   26.39419008\n",
            "   41.13204603 -253.09242429  115.38736164   20.15240502  -88.36684236\n",
            "  -95.91983539    0.85524006  -52.63502929  -88.23029063  -39.06743322\n",
            "   50.4921984    36.93301206 -136.74094249   49.7977895   -99.61673101\n",
            "   91.25546557    5.91313015 -168.54327401   60.35394035  -55.97608989\n",
            "  -74.80726457 -318.49073741  150.37736373   10.27238476   15.90758049\n",
            "  -23.5765013   115.11132811  107.76378613   77.31214282   -9.55331106\n",
            "    1.01250988 -138.97135598  155.67505992   92.41499307   42.19218397\n",
            " -125.33715489 -142.36330623   97.93147206  -33.50185784   -7.20865012\n",
            "   -3.09876003  139.06310669   -1.68940809  -28.36918469 -164.93205697\n",
            "  166.49940744   57.78760546 -142.59688281  -11.5733642   -68.20127259\n",
            " -116.71732521  104.43794322   83.55392863   51.90608183  153.91189257\n",
            " -182.80252401  103.56268878   95.12604279 -185.93497088 -115.48142947\n",
            "   85.56315809  -60.1648512    77.45980083  -78.52143024   12.49794026\n",
            "   75.69217958  167.32375563   -2.665694    121.49962114  -32.08123099\n",
            "  158.83012963   84.77271662   -9.03059513   20.31753601  135.84390131\n",
            "   53.1641508    36.38512462    7.45597916   79.18985857   51.76604296\n",
            "   60.86418489  -16.36191199    8.47894538 -153.78452118   -8.3711822\n",
            "   -4.61927396   76.44448459    5.04299076 -129.28005133   49.09669637\n",
            "  -52.13561462   40.39351918   29.38456936  183.66611686 -117.32321448\n",
            " -111.94000941  -76.86217545  220.81154769   87.00203404    7.15914694\n",
            "    5.33156342 -142.14486506  -58.68581809  -60.25618837   22.82637788\n",
            "   90.31129223  -76.82655962  143.49060858  101.8111787    60.85701863\n",
            "   22.15476447  -67.54943692  -63.29952625   21.88978732 -141.13486881\n",
            "  -21.16510724   33.22389241 -133.67504313   -1.77207909  -58.95315481\n",
            " -347.74299106   59.30399669  -93.23327364  -36.91820266  322.12792832\n",
            "  -16.19811541  -82.98241778   76.80504893  115.25890812  -64.39039403\n",
            "  -53.00034864 -105.17923924 -131.90471588   99.42789916  -60.63744936\n",
            "  -67.23533473  -11.80414122   -8.32596927  -52.70636566   87.07339358\n",
            " -287.55149326  -77.60602985  -47.01150535 -152.23562551  -52.66316921\n",
            "  -24.10136485  -88.75194826   -4.80625941  -88.03626778  -39.0106837\n",
            "  117.5902242   -34.25696015  -66.05993398   48.58354507  142.32712416\n",
            "   83.43591141  105.42410802 -143.58246262   -9.0028107   108.02944599\n",
            "  -20.21256265  -93.12020103  -30.25551119 -193.95604104   -3.35827035\n",
            "   -1.24578511    4.22214942  111.79752907   48.41671468  -55.05458095\n",
            "  -50.86275308   27.07506215  -59.19764025  103.31437762  -51.2934258\n",
            " -162.72585102   85.8856608    -0.38316793  -37.56309448  169.03747783\n",
            " -114.81945944   52.01778034  116.67023101  170.74137713  -25.45669415\n",
            "  107.68621815 -103.67801676  -50.38973329  -12.09881584   -6.91580338\n",
            "  -21.40572902  210.31574786   37.4417563    54.91160875  172.27879369\n",
            "  -29.37550503  154.72246919  166.64194159   47.26591826   36.22693021\n",
            " -145.60465493   67.38551978   38.07761562   86.84075947  -19.78742289\n",
            " -152.77127555   36.68844613  -60.39368064  104.3902502  -130.13171544\n",
            "  -29.08947174  -56.80167461 -117.91766207  -80.94805234   99.39285826\n",
            "  -38.98054189   -8.95084896   96.67222907   23.42640896 -123.68954013\n",
            "  129.74914199 -155.62008158    0.41049705 -118.99666818  -31.8931944\n",
            " -137.12369079 -180.24738749  -51.28969894 -245.15565378    0.53806755\n",
            "   18.32456709  262.91066809   29.8877036   -41.74201344  -43.65990574\n",
            "   48.78655163   37.72140452  -70.48888037   21.66706573   70.28036455\n",
            "  134.91008878   90.010215     91.68926476  -14.42049455   12.08692274\n",
            "  135.38890372  127.4655729   151.27562533  -59.26505132   80.02080255\n",
            "   63.69885044   18.20424565   81.17651532   53.25770653   27.81331549\n",
            "  -21.8804966   175.87567276  -19.41878496   33.90386636 -129.40731509\n",
            "  -11.2942977     9.0881703  -146.59877087 -112.37684023 -136.82001862\n",
            "   36.31018241  -92.20071204   53.01834808  -29.23917915  -35.17580774\n",
            "   55.59355694 -121.73711765  170.36511847  -36.7954887   136.78071914\n",
            "   33.4309507    23.01972194    2.91544728   87.51502523 -100.48939829\n",
            "  -67.89156052  154.76376799 -100.79172534  119.51149789  161.31206561\n",
            "   90.83721061   46.95703467   45.60596772 -298.10137942   54.59145239\n",
            "   13.69318225   72.19175982   -0.554363    -93.36982667    4.50510822\n",
            "   -6.51370898  -16.5670701     2.00434757  193.13985351  182.37071013]\n"
          ]
        }
      ]
    },
    {
      "cell_type": "markdown",
      "source": [
        "**Informe Ejecutivo**\n",
        "\n",
        "Para el desarrollo del modelo primero se realizo una divison 70/30 de los datos donde el 70 seria utilizado para entrenamiento mientras el 30 seria utilizado para test y comparar que tan exacto esta siendo el modelo sin acostumbrase a los datos, luego se realizaron varias combinaciones sobre las variables predictoras que mejor lograran explicar y predecir las ventas del cliente, primero se utilizaron todas las variables (edad cliente, tiempo como cliente meses,ingresosmensuales',visitas mensuales sitio_web, contactos,'nivel educativo,uso tarjeta credito, participa en promociones,calificacion satisfaccion,descuento promedio usado) en este caso el modelo paso la prueba del r2 y probabilidad statitic que nos demuestran que las variables escogidas son significativa para el modelo y que el modelo es estadisticamente significativo sin embargo el valor p(P>|t|) no todas las variables pasaron esta prueba que nos indica que tan buenas o significativas son las variables para predecir las ventas, luego para descartar se miraron las diferentes variables y se depuraron de las siguientes categorias contactos,nivel educativo,uso tarjeta credito,participa en promociones,calificacion satisfaccion debido a que no pasaron la prueba de valor p y ademas no se entendia muy bien como estos datos podrian ayudar a la prediccion de las ventas por lo cual se probaron diferentes combinaciones con las categorias restantes hasta que se obtuvo un modelo con un R2 ajustado del 40% tanto para el conjunto train como para el conjunto test y un prob f negativa indicando lo anteriormente mencionado y con valores p menores a 0,05 lo que indica que son predictores significativos para el predecir las ventas dentro del modelo. en conclusion el modelo tiene una confiabilidad del 40% con una buena significancia estadistica de las categorias o variables que lo componen mostrando solidez para la prediccion de las ventas"
      ],
      "metadata": {
        "id": "C6B3b2Dq9UEE"
      }
    }
  ]
}