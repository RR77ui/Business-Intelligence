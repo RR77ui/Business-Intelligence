{
  "nbformat": 4,
  "nbformat_minor": 0,
  "metadata": {
    "colab": {
      "provenance": []
    },
    "kernelspec": {
      "name": "python3",
      "display_name": "Python 3"
    },
    "language_info": {
      "name": "python"
    }
  },
  "cells": [
    {
      "cell_type": "markdown",
      "source": [
        "# Taller 1\n",
        "\n",
        "**Fecha de entrega:** Miércoles 6 de agosto\n",
        "\n",
        "Se tiene un conjunto de datos de 1500 registros con las siguientes variables:\n",
        "\n",
        "- edad_cliente (años)\n",
        "- tiempo_como_cliente_meses\n",
        "- ingresos_mensuales (dolares)\n",
        "- visitas_mensuales_sitio_web\n",
        "- contactos (call-center)\n",
        "- nivel_educativo (1:primaria, 2:secundaria, 3:tecnico-tecnologico, 4:universitario, 5 posgrado)\n",
        "- uso_tarjeta_credito (1: Si, 0: No)\n",
        "- participa_en_promociones (1: Si, 0: No)\n",
        "- calificacion_satisfaccion (1-5, donde 1 es muy bajo y 5 es excelente)\n",
        "- descuento_promedio_usado (%)\n",
        "- ventas_cliente (Ventas promedio al cliente en dolares)\n",
        "\n",
        "\n",
        "Se espera que el cientifico de datos presente el mejor modelo de regresión posible para predecir las ventas del cliente, con el respectivo informe ejecutivo para el gerente.\n",
        "Se deben validar todos los supuestos de la regresión y que esta no presente problemas.\n"
      ],
      "metadata": {
        "id": "qyFpeRvCf_U4"
      }
    },
    {
      "cell_type": "markdown",
      "source": [
        "1. Cargar librerias"
      ],
      "metadata": {
        "id": "kZOfgOYdNpYA"
      }
    },
    {
      "cell_type": "code",
      "source": [
        "import numpy as np\n",
        "import pandas as pd\n",
        "import sklearn.linear_model as LinearRegression\n",
        "import matplotlib.pyplot as plt\n",
        "import statsmodels.api as sm\n",
        "import scipy.stats as stats"
      ],
      "metadata": {
        "id": "Gs2-ntT3Nw6R"
      },
      "execution_count": 3,
      "outputs": []
    },
    {
      "cell_type": "markdown",
      "source": [
        "2. Cargar datos"
      ],
      "metadata": {
        "id": "PO1c8Wf8Otpc"
      }
    },
    {
      "cell_type": "code",
      "source": [
        "from google.colab import drive\n",
        "drive.mount('/content/drive')"
      ],
      "metadata": {
        "id": "AIAjLkuVOpPK",
        "colab": {
          "base_uri": "https://localhost:8080/"
        },
        "outputId": "7f017c36-ac63-4064-f6ec-5d89e57c200b"
      },
      "execution_count": 2,
      "outputs": [
        {
          "output_type": "stream",
          "name": "stdout",
          "text": [
            "Mounted at /content/drive\n"
          ]
        }
      ]
    },
    {
      "cell_type": "code",
      "source": [
        "df=pd.read_csv('/content/drive/MyDrive/Aprendizaje Supervisado/dataset_regresion_ventas.csv')\n",
        "df.head()\n",
        "df.columns"
      ],
      "metadata": {
        "colab": {
          "base_uri": "https://localhost:8080/"
        },
        "id": "kCD5bFOGPFkY",
        "outputId": "fb3f8009-7f66-42aa-9810-83d3496e6b3f"
      },
      "execution_count": 4,
      "outputs": [
        {
          "output_type": "execute_result",
          "data": {
            "text/plain": [
              "Index(['edad_cliente', 'tiempo_como_cliente_meses', 'ingresos_mensuales',\n",
              "       'visitas_mensuales_sitio_web', 'contactos', 'nivel_educativo',\n",
              "       'uso_tarjeta_credito', 'participa_en_promociones',\n",
              "       'calificacion_satisfaccion', 'descuento_promedio_usado',\n",
              "       'ventas_cliente'],\n",
              "      dtype='object')"
            ]
          },
          "metadata": {},
          "execution_count": 4
        }
      ]
    },
    {
      "cell_type": "code",
      "source": [
        "train=df.sample(frac=0.7,random_state=200)\n",
        "test=df.drop(train.index)"
      ],
      "metadata": {
        "id": "VQBBAmC4gfwG"
      },
      "execution_count": 5,
      "outputs": []
    },
    {
      "cell_type": "markdown",
      "source": [
        "3. Regresion Lineal Train"
      ],
      "metadata": {
        "id": "zFPvwvgXRHRu"
      }
    },
    {
      "cell_type": "code",
      "source": [
        "yt=train['ventas_cliente']\n",
        "xt=train[['edad_cliente','tiempo_como_cliente_meses','visitas_mensuales_sitio_web','descuento_promedio_usado']]\n",
        "\n",
        "xt=np.array(xt)\n",
        "yt=np.array(yt)\n",
        "\n",
        "modelotrain=LinearRegression.LinearRegression()\n",
        "modelotrain.fit(xt, yt)\n",
        "\n",
        "print('Intercerpto(a):',modelotrain.intercept_)\n",
        "print('Pendientes(b):',modelotrain.coef_)"
      ],
      "metadata": {
        "colab": {
          "base_uri": "https://localhost:8080/"
        },
        "id": "rWNr9y0PRQBl",
        "outputId": "45857c67-dac7-4aa3-b6f5-72469d385743"
      },
      "execution_count": 32,
      "outputs": [
        {
          "output_type": "stream",
          "name": "stdout",
          "text": [
            "Intercerpto(a): 152.8567011884595\n",
            "Pendientes(b): [  2.60266071   1.67174481   7.07495136 344.71459861]\n"
          ]
        }
      ]
    },
    {
      "cell_type": "markdown",
      "source": [
        "4. Modelo de regresion Train"
      ],
      "metadata": {
        "id": "QsPEDEFXQtvp"
      }
    },
    {
      "cell_type": "code",
      "source": [
        "x_constt=sm.add_constant(xt)\n",
        "modelo_smt=sm.OLS(yt,x_constt).fit()\n",
        "print(modelo_smt.summary())\n",
        "\n",
        "residuales = modelo_smt.resid\n",
        "print(\"\\nResiduales:\")\n",
        "print(residuales)"
      ],
      "metadata": {
        "colab": {
          "base_uri": "https://localhost:8080/"
        },
        "id": "S_B4ZD0idwch",
        "outputId": "8631a5e7-d490-4fc4-8b57-257d85294ccb"
      },
      "execution_count": 33,
      "outputs": [
        {
          "output_type": "stream",
          "name": "stdout",
          "text": [
            "                            OLS Regression Results                            \n",
            "==============================================================================\n",
            "Dep. Variable:                      y   R-squared:                       0.375\n",
            "Model:                            OLS   Adj. R-squared:                  0.373\n",
            "Method:                 Least Squares   F-statistic:                     157.1\n",
            "Date:                Thu, 07 Aug 2025   Prob (F-statistic):          2.92e-105\n",
            "Time:                        01:30:23   Log-Likelihood:                -6358.3\n",
            "No. Observations:                1050   AIC:                         1.273e+04\n",
            "Df Residuals:                    1045   BIC:                         1.275e+04\n",
            "Df Model:                           4                                         \n",
            "Covariance Type:            nonrobust                                         \n",
            "==============================================================================\n",
            "                 coef    std err          t      P>|t|      [0.025      0.975]\n",
            "------------------------------------------------------------------------------\n",
            "const        152.8567     13.920     10.981      0.000     125.542     180.171\n",
            "x1             2.6027      0.211     12.330      0.000       2.188       3.017\n",
            "x2             1.6717      0.094     17.750      0.000       1.487       1.857\n",
            "x3             7.0750      1.488      4.754      0.000       4.155       9.995\n",
            "x4           344.7146     32.999     10.446      0.000     279.964     409.466\n",
            "==============================================================================\n",
            "Omnibus:                        2.671   Durbin-Watson:                   2.049\n",
            "Prob(Omnibus):                  0.263   Jarque-Bera (JB):                2.342\n",
            "Skew:                           0.007   Prob(JB):                        0.310\n",
            "Kurtosis:                       2.769   Cond. No.                         832.\n",
            "==============================================================================\n",
            "\n",
            "Notes:\n",
            "[1] Standard Errors assume that the covariance matrix of the errors is correctly specified.\n",
            "\n",
            "Residuales:\n",
            "[-165.2699471    68.18870118  151.78757633 ...   78.43195619  173.027217\n",
            "   93.41448607]\n"
          ]
        }
      ]
    },
    {
      "cell_type": "markdown",
      "source": [
        "5. Regresion Lineal Test"
      ],
      "metadata": {
        "id": "7QXPRSk5pQ84"
      }
    },
    {
      "cell_type": "code",
      "source": [
        "y=test['ventas_cliente']\n",
        "x=test[['edad_cliente','tiempo_como_cliente_meses','visitas_mensuales_sitio_web','descuento_promedio_usado']]\n",
        "\n",
        "x=np.array(x)\n",
        "y=np.array(y)\n",
        "\n",
        "modelotest=LinearRegression.LinearRegression()\n",
        "modelotest.fit(x, y)\n",
        "\n",
        "print('Intercerp(a):',modelotest.intercept_)\n",
        "print('Pendientes(b):',modelotest.coef_)"
      ],
      "metadata": {
        "colab": {
          "base_uri": "https://localhost:8080/"
        },
        "id": "LqE5WPiipesc",
        "outputId": "c287da2d-59ad-4f44-c68a-99aba5edf927"
      },
      "execution_count": 35,
      "outputs": [
        {
          "output_type": "stream",
          "name": "stdout",
          "text": [
            "Intercerp(a): 159.28546546936514\n",
            "Pendientes(b): [  2.36215701   1.83418048   6.4814798  298.87969767]\n"
          ]
        }
      ]
    },
    {
      "cell_type": "markdown",
      "source": [
        "6. Modelo de regresion lineal Test\n",
        "\n"
      ],
      "metadata": {
        "id": "44_fDNEBp1Vt"
      }
    },
    {
      "cell_type": "code",
      "source": [
        "x_const=sm.add_constant(x)\n",
        "modelo_sm=sm.OLS(y,x_const).fit()\n",
        "print(modelo_sm.summary())\n",
        "\n",
        "residuales = modelo_sm.resid\n",
        "print(\"\\nResiduales:\")\n",
        "print(residuales)"
      ],
      "metadata": {
        "colab": {
          "base_uri": "https://localhost:8080/"
        },
        "id": "Zh1WYxrNp5Wi",
        "outputId": "c403ffb4-1b48-4338-e1ba-d4301a93c16d"
      },
      "execution_count": 36,
      "outputs": [
        {
          "output_type": "stream",
          "name": "stdout",
          "text": [
            "                            OLS Regression Results                            \n",
            "==============================================================================\n",
            "Dep. Variable:                      y   R-squared:                       0.370\n",
            "Model:                            OLS   Adj. R-squared:                  0.364\n",
            "Method:                 Least Squares   F-statistic:                     65.30\n",
            "Date:                Thu, 07 Aug 2025   Prob (F-statistic):           1.98e-43\n",
            "Time:                        01:30:38   Log-Likelihood:                -2726.0\n",
            "No. Observations:                 450   AIC:                             5462.\n",
            "Df Residuals:                     445   BIC:                             5483.\n",
            "Df Model:                           4                                         \n",
            "Covariance Type:            nonrobust                                         \n",
            "==============================================================================\n",
            "                 coef    std err          t      P>|t|      [0.025      0.975]\n",
            "------------------------------------------------------------------------------\n",
            "const        159.2855     21.976      7.248      0.000     116.097     202.474\n",
            "x1             2.3622      0.331      7.128      0.000       1.711       3.013\n",
            "x2             1.8342      0.144     12.741      0.000       1.551       2.117\n",
            "x3             6.4815      2.236      2.898      0.004       2.087      10.876\n",
            "x4           298.8797     52.534      5.689      0.000     195.633     402.126\n",
            "==============================================================================\n",
            "Omnibus:                        1.394   Durbin-Watson:                   2.034\n",
            "Prob(Omnibus):                  0.498   Jarque-Bera (JB):                1.472\n",
            "Skew:                          -0.128   Prob(JB):                        0.479\n",
            "Kurtosis:                       2.887   Cond. No.                         888.\n",
            "==============================================================================\n",
            "\n",
            "Notes:\n",
            "[1] Standard Errors assume that the covariance matrix of the errors is correctly specified.\n",
            "\n",
            "Residuales:\n",
            "[-1.36540106e+02  3.62053446e+01 -9.97400420e+01 -9.02605747e+01\n",
            " -9.50248442e+01 -6.25863955e+01  9.55994845e+01  1.37023520e+02\n",
            "  1.01342307e+02  5.52720293e+01 -7.10318075e+01  7.36118953e+01\n",
            " -3.61559591e+01  7.15050936e+01 -4.86761412e+01 -7.51745593e+01\n",
            "  1.49876399e+02  1.06153236e+02  1.82065324e+02  1.29743519e+02\n",
            "  1.29494259e+02  8.59754274e+01  7.10421472e+01  4.13950936e+01\n",
            "  1.39482180e+02  1.24389035e+02 -7.41814788e+01  5.10996876e+01\n",
            "  9.97987414e+01 -5.65815485e+01  1.16238653e+02 -7.82953564e+01\n",
            "  2.27453397e+02  7.93060740e+01 -1.67739537e+02  9.73258903e+01\n",
            " -2.96672833e+00 -6.17490655e+01  1.63088824e+02 -1.43498717e+02\n",
            " -5.28573003e+01 -6.79092029e+00  2.19335734e+01 -1.06568003e+02\n",
            " -1.83144782e+01 -9.14979363e+01 -7.06761380e+01 -7.48259042e+01\n",
            " -1.19892207e+02 -8.68126815e+01 -1.58951650e+01 -1.55291072e+01\n",
            "  5.01886217e+01  1.02524242e+02 -4.69279099e+01  6.32912453e+01\n",
            " -5.21853331e+01 -9.94625478e+01 -7.51788279e+01 -8.57195185e+01\n",
            " -1.86948619e+02  4.46774537e+01 -1.40500626e+02 -7.66692036e+01\n",
            " -1.65782204e+02  8.04135769e+01  5.80982695e+01 -7.76635540e+01\n",
            " -3.47310128e+01  1.74864222e+02 -2.11664363e+01  4.77610294e+01\n",
            " -1.37659197e+02  1.15837879e+02 -1.24119543e+02 -6.44730642e+01\n",
            " -1.02095625e+02  6.80995089e+01 -7.46217071e+00  2.27426916e+01\n",
            " -8.48757830e+01 -8.19936905e+01 -2.16305330e+02  1.69345371e+02\n",
            " -2.55097165e+01  7.54971436e+01 -9.51536090e+01 -1.26838186e+02\n",
            " -9.72543658e+00  5.16926580e+01  7.43257012e+01 -8.58315587e+01\n",
            " -1.66201309e+01 -1.35721679e+02  1.67756508e+02 -3.74264298e+01\n",
            " -1.92890031e+02  5.67107063e+01  2.10667131e+01 -8.08102756e+01\n",
            " -8.59120634e+01  9.28017376e+01  6.00768072e+01 -1.88350366e+02\n",
            "  1.45139015e+02 -6.93108541e+01  1.24460588e+02 -3.59215779e+01\n",
            "  1.07517422e+02 -6.86715169e+01  4.38002772e+01  5.29383595e+01\n",
            " -7.43638413e+01  2.21798031e+00  1.43857011e+02 -2.59067978e+01\n",
            " -2.97762475e+01  7.14338719e+01  4.20972306e+00  1.31484374e+02\n",
            " -6.88000629e+01  1.19747178e+02  2.37984000e+01  2.02216517e+02\n",
            " -8.40148631e+01 -6.34636659e+01 -1.36544877e+02 -1.15003820e+02\n",
            " -3.56559053e+01 -9.97814010e+01  2.30494243e+00  6.84493497e+01\n",
            "  4.41423669e+01  5.05113856e+01 -3.06461963e+01 -6.38084442e+01\n",
            " -1.00953569e+02  4.38295659e+01 -1.83857723e+02 -5.29282146e+01\n",
            " -2.81805039e+01  2.93504910e+00  1.17262546e+02 -1.96913833e+02\n",
            "  6.87901507e+01 -1.64288111e+02 -7.83679779e+01  1.33253642e+02\n",
            "  8.07987219e+00  1.48489189e+01  3.46078537e+01 -2.47647535e+02\n",
            "  1.16631855e+02  2.14841294e+00 -4.24660312e+01 -1.10429397e+02\n",
            " -6.02744713e+01 -7.46036961e+01 -1.15754237e+02 -3.47603557e+01\n",
            "  4.25210362e+01  2.39568601e+01 -1.76360341e+02  7.18382990e+01\n",
            " -8.95114600e+01  6.86853311e+01  3.61709199e+01 -1.69787515e+02\n",
            "  5.27247185e+01 -6.86074624e+01 -7.47013795e+01 -3.33272867e+02\n",
            "  1.34635185e+02  1.48145827e+01 -1.90544131e+00  1.74279634e+00\n",
            "  9.75027516e+01  1.86611145e+02  1.08600565e+02  1.25196979e+01\n",
            "  2.06381030e+01 -8.27217112e+01  1.46563461e+02  1.25310508e+02\n",
            "  2.26187537e+01 -9.25036540e+01 -1.64777578e+02  1.07836957e+02\n",
            " -3.64842710e+01 -3.72791032e+01 -6.30952244e+00  1.31344538e+02\n",
            " -1.91000976e+01 -1.41289007e+01 -1.75953788e+02  1.88017217e+02\n",
            "  6.78942760e+01 -1.40039424e+02  5.55195993e+00 -6.30864502e+01\n",
            " -1.51945928e+02  1.23720925e+02  1.24822674e+02  2.18482280e+01\n",
            "  1.62221511e+02 -1.52350956e+02  8.02132195e+01  9.40031759e+01\n",
            " -1.88338629e+02 -8.37121579e+01  1.48907380e+02 -6.59023151e+01\n",
            "  1.20620502e+02 -6.95238764e+01  1.73094676e+01  8.32806228e+01\n",
            "  1.66840989e+02  1.36159809e+01  1.23074292e+02 -9.17429172e+00\n",
            "  1.27672928e+02  9.90960522e+01 -2.32333106e+01  5.01632377e+00\n",
            "  1.86249674e+02  5.42707581e+01  7.93417086e+01  1.20440478e+01\n",
            "  4.03176253e+01  9.60975692e+01  5.69190089e+01  8.17005484e+00\n",
            " -1.54093165e+01 -1.64140529e+02 -1.20069758e+01 -1.15733317e+01\n",
            "  7.22015352e+01  1.07350035e+01 -1.11567063e+02  5.54403914e+01\n",
            " -3.42837528e+01  5.98523099e+01  3.76343783e+01  1.70064349e+02\n",
            " -1.30610732e+02 -1.05390688e+02 -1.32135287e+02  1.89651751e+02\n",
            "  1.23064721e+02  4.31225551e-01 -2.54627071e+01 -1.50492459e+02\n",
            " -3.68023179e+01 -5.81959047e+01  9.62888414e+00  1.04846194e+02\n",
            " -7.91530871e+01  1.74996541e+02  7.20887947e+01  6.12658695e+01\n",
            " -6.27039776e+00 -7.02583315e+01 -1.37268297e+02  2.14310045e+01\n",
            " -1.75501723e+02 -7.93970628e+01  4.36909576e+01 -1.38144307e+02\n",
            " -5.13300277e+01 -4.63188310e+01 -3.06132350e+02  6.76198485e+01\n",
            " -8.00679123e+01 -7.19350013e+01  2.93333987e+02  2.20377726e+01\n",
            " -9.47266922e+01  6.04784307e+01  8.01848808e+01 -7.54126146e+01\n",
            " -6.17521091e+01 -6.30267606e+01 -1.01186150e+02  1.71066984e+02\n",
            " -8.15306328e+01 -5.22098142e+01 -4.49102992e+01  6.55997771e+01\n",
            "  1.56457906e+01  9.86467797e+01 -3.26499889e+02 -1.68506775e+01\n",
            " -9.21974618e+01 -1.50156899e+02 -1.05066696e+02 -2.57096077e+01\n",
            " -1.31331424e+02 -4.67711199e+01 -8.14789109e+01 -2.26426956e+00\n",
            "  9.07836451e+01 -3.33610836e+01 -1.15255872e+02  3.65500114e+01\n",
            "  1.89234220e+02  1.28976813e+02  8.16255381e+01 -1.37872214e+02\n",
            "  1.35917205e+00  1.50810718e+02 -2.45562472e+01 -8.15044656e+01\n",
            " -1.73002103e+01 -2.26890633e+02 -1.73549729e+01 -2.81466024e+00\n",
            " -3.78613195e+01  1.18660577e+02 -1.36415792e-01 -2.97011915e+01\n",
            " -3.19344095e+01  8.08187499e+01 -8.93427146e+01  6.74083876e+01\n",
            "  5.48863454e+00 -1.44515247e+02  9.35022090e+01 -4.76185561e+01\n",
            "  9.20441097e+00  1.81514411e+02 -1.32944861e+02  5.54212458e+00\n",
            "  1.10125476e+02  1.64219261e+02 -5.73400284e+01  1.30789318e+02\n",
            " -1.17810533e+02 -9.60195918e+01  2.76562925e+01  2.11605203e+01\n",
            " -1.42312288e+01  1.95628647e+02  3.61869085e+01  8.37354614e+01\n",
            "  1.46321434e+02 -5.53580941e+01  1.65833229e+02  1.78883465e+02\n",
            "  8.13027555e+01  5.29133071e+01 -1.85975826e+02  9.93723967e+01\n",
            "  3.12004722e+01  7.67629419e+01  3.34087084e+01 -1.41201255e+02\n",
            "  1.49680636e+01 -1.95664343e+01  1.21019846e+02 -1.44700542e+02\n",
            " -1.71265093e+01 -5.54198868e+01 -1.11692060e+02 -1.64213501e+01\n",
            "  8.10347394e+01 -1.99854258e+01 -2.42245857e+01  8.40684269e+01\n",
            " -3.51597607e+01 -1.03539785e+02  1.51206201e+02 -1.13273428e+02\n",
            " -1.76588883e+01 -1.01116264e+02  3.20918403e+01 -1.57011053e+02\n",
            " -2.14473429e+02 -4.68525000e+01 -2.39991590e+02  2.10306819e+00\n",
            "  1.85075997e+01  2.80767749e+02  3.12297696e+01 -5.45317258e+01\n",
            " -6.33002199e+01  3.99582165e+01  4.98366566e+01 -7.94312968e+01\n",
            "  3.62599506e+01  1.09662794e+01  1.08579112e+02  6.58828517e+01\n",
            "  5.95154756e+01  3.35596010e+00  3.47386666e+01  1.99241515e+02\n",
            "  1.14390248e+02  1.45585620e+02 -7.20966630e+01  1.04441247e+02\n",
            "  6.94023684e+00 -1.52529191e+01  7.58243361e+01  2.55744828e+01\n",
            "  4.16393824e+01 -1.78337198e+01  1.66869941e+02 -5.86522728e+01\n",
            "  4.40366996e+01 -1.12339985e+02 -4.41235071e+01  3.62720291e+01\n",
            " -1.76913170e+02 -1.45256739e+02 -1.52944169e+02  1.00459495e+01\n",
            " -9.01120685e+01  6.07157325e+01 -4.93715103e+00 -5.88330201e+00\n",
            "  6.93894670e+01 -1.36682333e+02  1.79259401e+02 -7.41680265e+01\n",
            "  1.33348927e+02  5.43694036e+01  1.83997416e+01  1.50714290e+01\n",
            "  1.07739026e+02 -1.26352284e+02 -5.71817393e+01  1.37129856e+02\n",
            " -8.13873341e+01  1.11343134e+02  1.47030639e+02  8.54749966e+01\n",
            "  5.46951614e+01  7.70485681e+01 -2.81994046e+02  1.09412670e+02\n",
            "  5.19808851e+01  5.03389483e+01  7.74690351e+00 -4.76363925e+01\n",
            "  5.75276920e+01 -1.73361420e+01 -1.34968844e+01  9.15662298e+00\n",
            "  2.32693674e+02  1.92242532e+02]\n"
          ]
        }
      ]
    },
    {
      "cell_type": "markdown",
      "source": [
        "**Informe Ejecutivo**\n",
        "\n",
        "En este informe se tocaran 4 puntos relevantes sobre el diseño, analisis y recomendaciones que deja el modelo realizado para la compañia\n",
        "\n",
        "1. Para el desarrollo de este modelo estadistico se realizo una division de los datos en proporcion de 70/30 para lidiar con problemas de sobreajuste a los datos del modelo lo cual mas adelante vamos a medir que sucedio con esto. en cuanto a porque se selecciono este modelo, se realizaron pruebas de 3 modelo un con las 10 variables disponibles, el segundo con 5 y el ultimo seleccionado con cuatro, los 2 primeros modelos se descartaron el primero por problemas con las variables predictoras ya que luego de hacer la prueba del P>|t| que nos indica que tan significantes o relevantes son las variables dentro del modelo y se descartaron la mitad de la variables, el segundo modelo se descarto ya que la variable ingresos mensuales hacia que el modelo tuviera problemas de multicolinealidad, y se opto por este modelo que paso las preubas de los diferentes estadisticos como R2 ajustado que indica que en un 36% de la variabilidad de las ventas pueden ser explicadas por las variables seleccionadas, una prob f statistic menor al 0.001 que demuestra una buena significancia estadistica del modelo y valor p menores a 0.05 que indican la relevancia del coeficiente y cada variable dentro del modelo\n",
        "\n",
        "2.La division del 70/30 en los datos se hizo para utilizar el 70 para entrenar el modelo y luego testear con el 30 restante que no tuviera problemas de sobreajuste a los datos, esto se valido con el indicador del r2 el cual es muy similar en ambos demostrando que no hay un sobreajuste del modelov a los datos\n",
        "\n",
        "3.La ecuacion del modelo quedo de la siguiente manera: ventas del cliente(y)= 159.28(a)+2.36 Edad(x1)+1.83tiempo(x2)+6.48visitas(x3)+298.87(x4)\n",
        "todas las variables presentan coeficientes positivos que indican una relacion directa con las ventas o en  otras palabras el valor de las ventas aumenta en la proporcion que aumente cada una de las variables, donde el intercepto es el valor de referencia con valor de 159.28 dolares cuando las variables sean 0, para x1 por cada año adicional de edad del cliente incrementa en 2.60 dolares las ventas, x2 cada mes adicional de fidelidad aporta 1.67 dólares extra en ventas mensuales, x3 cada visita mensual adicional al sitio web genera cerca de 7.07 dólares más en ventas, x4 con el mayor coeficiente que indica que por cada vez que le aparece al cliente el descuento promedio eleva las ventas en 298.87 dólares\n",
        "\n",
        "\n",
        "4.Se recomienda con esta informacion se concluye que se deberia diseñar promociones segmentadas y comunicar descuentos en canales de mayor conversión potenciará las ventas de forma inmediata, ademas de fomentar programas de retencion de clientes que aporten valor sostenido a la empresa y el uso del sitio web añadiendo contenido personalizado o notificaciones que favorezcan al crecimiento de las ventas de la compañia"
      ],
      "metadata": {
        "id": "C6B3b2Dq9UEE"
      }
    }
  ]
}