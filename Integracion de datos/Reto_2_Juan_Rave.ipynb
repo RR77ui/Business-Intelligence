{
  "nbformat": 4,
  "nbformat_minor": 0,
  "metadata": {
    "colab": {
      "provenance": [],
      "authorship_tag": "ABX9TyNKpaOs0BttEvn73s+7lOb6",
      "include_colab_link": true
    },
    "kernelspec": {
      "name": "python3",
      "display_name": "Python 3"
    },
    "language_info": {
      "name": "python"
    }
  },
  "cells": [
    {
      "cell_type": "markdown",
      "metadata": {
        "id": "view-in-github",
        "colab_type": "text"
      },
      "source": [
        "<a href=\"https://colab.research.google.com/github/RR77ui/Business-Intelligence/blob/main/Integracion%20de%20datos/Reto_2_Juan_Rave.ipynb\" target=\"_parent\"><img src=\"https://colab.research.google.com/assets/colab-badge.svg\" alt=\"Open In Colab\"/></a>"
      ]
    },
    {
      "cell_type": "markdown",
      "source": [
        "##**Caso de estudio**\n",
        "Para este ejercicio se utilizara una Base de datos de solicitantes de credito de la cual se analizaran y se realizaran el muestreo de 4 años para tener una confiabilidad del 99,99% y que el modelo de los datos aleatorios si sea coherente con los datos orginales, para esto se utilizara el metodo montecarlo y se realizara un analisis de los resultados al final del codigo.\n",
        "Variables utilizadas\n",
        "LI =Limite inferior de los clusters de cada año\n",
        "LS =Limite superior de los clusters de cada año\n",
        "COUNTS = Cantidad de datos de cada año\n",
        "MC= Marca de clase para cada año\n",
        "LDA = LDA original\n",
        "LDAm = LDA muestreada con el metodo montecarlo\n"
      ],
      "metadata": {
        "id": "ZUGYViuS4Tyl"
      }
    },
    {
      "cell_type": "markdown",
      "source": [
        "0. Cargar librerias"
      ],
      "metadata": {
        "id": "YiLSrrkc7Sej"
      }
    },
    {
      "cell_type": "code",
      "source": [
        "import pandas as pd\n",
        "import numpy as np\n",
        "import matplotlib.pyplot as plt\n",
        "import seaborn as sns\n",
        "import scipy.stats as stats\n",
        "from scipy.stats import skew, kurtosis\n",
        "\n",
        "from google.colab import drive\n",
        "drive.mount('/content/drive')"
      ],
      "metadata": {
        "colab": {
          "base_uri": "https://localhost:8080/"
        },
        "id": "72teqQ217R-U",
        "outputId": "df35bd92-1c1b-4c30-dc31-b12127822d8d"
      },
      "execution_count": null,
      "outputs": [
        {
          "output_type": "stream",
          "name": "stdout",
          "text": [
            "Mounted at /content/drive\n"
          ]
        }
      ]
    },
    {
      "cell_type": "markdown",
      "source": [
        "1. Funcion histograma"
      ],
      "metadata": {
        "id": "ZVTJfw868GTf"
      }
    },
    {
      "cell_type": "code",
      "execution_count": null,
      "metadata": {
        "id": "TcOEH20G4MDN"
      },
      "outputs": [],
      "source": [
        "# @title 1. Método: Histograma de Frecuencias\n",
        "# Variables de Entrada: Distribución de las Pérdidas\n",
        "# Variables de Salida: Limite Inferior(LI), Limite Superior(LS), Número de Datos(counts),Marca de clase(mc),\n",
        "# Marca de Clase del Histograma de Frecuencias.\n",
        "def Histx(LDA): #Nombre de su método\n",
        "\n",
        "  NC=20  #Número de Clusters\n",
        "\n",
        "  #plt.figure()\n",
        "  #sns.histplot(LDA,kde=True,bins=NC,color='red')\n",
        "  #plt.title('Distribución LDA')\n",
        "  #plt.show()\n",
        "\n",
        "  #Obtenemos la información de la Distribución\n",
        "  counts, bin_edges=np.histogram(LDA,bins=NC)\n",
        "  LI=bin_edges[:-1];LS=bin_edges[1:]\n",
        "  mc=(LI+LS)/2 #El valor representativo de cada intervalo\n",
        "  freq=counts/np.sum(counts)\n",
        "\n",
        "  return LI,LS,counts,mc,freq"
      ]
    },
    {
      "cell_type": "markdown",
      "source": [
        "2. Muestreo Aleatorio Metodo Montecarlo"
      ],
      "metadata": {
        "id": "SOUZxRsdAm1A"
      }
    },
    {
      "cell_type": "code",
      "source": [
        "#@title 1. Método: Muestreo Aleatorio\n",
        "# Variables de Entrada: Freq (Cantidad de datos en cada intervalo o cluster del histograma)\n",
        "# Variables de Salida: LDAm (Distribucion de perdidas agregada mustreada con una confiabilidad del 99,99%)\n",
        "\n",
        "def Aleatx(freq):\n",
        "\n",
        "  acum=np.cumsum(freq)\n",
        "  Confiabilidad=9999+1 #Confiabilidad del 99.99%\n",
        "  print(Confiabilidad)\n",
        "  LDAm=np.zeros((Confiabilidad,1))#Variable Muestreada, El np crea una tabla de una sola columna\n",
        "\n",
        "  for k in range(Confiabilidad):\n",
        "   al=np.random.uniform(0,1) #Numero aletario entre 0 y 1\n",
        "   inter=np.where(al<=acum)[0][0] #Define en que intervalo queda\n",
        "   LDAm[k]=np.random.uniform(LI[inter],LS[inter]) #Muestra aleatoria dentro del intervalo\n",
        "\n",
        "\n",
        "  #plt.figure()\n",
        "  #sns.histplot(LDAm,kde=True,bins=10,color='red')\n",
        "  #sns.histplot(LDA,kde=True,bins=10,color='red')\n",
        "  #plt.title('Distribución LDAm')\n",
        "  #plt.show()\n",
        "\n",
        "  return LDAm"
      ],
      "metadata": {
        "id": "bsCJI9kGA8yZ"
      },
      "execution_count": null,
      "outputs": []
    },
    {
      "cell_type": "markdown",
      "source": [
        "3. Prueba de muestreo"
      ],
      "metadata": {
        "id": "UiboVtMGL2wx"
      }
    },
    {
      "cell_type": "code",
      "source": [
        "nxl='/content/drive/MyDrive/Integración de datos y prospectiva/1. SolicitantesCrédito(USD)_Años.xlsx'\n",
        "m1=0\n",
        "for k in range(5,1,-1):\n",
        " m1=m1+1\n",
        " print(\"Año\",m1)\n",
        " print(\"Hoja\",k)\n",
        " XDB=pd.read_excel(nxl,sheet_name=k)\n",
        " LDA=XDB.iloc[:,25]*XDB.iloc[:,33]*(1+XDB.iloc[:,35])\n",
        " XDB['LDA']=LDA\n",
        "\n",
        " LI,LS,counts,mc,freq=Histx(LDA)\n",
        " LDAm=Aleatx(freq)\n",
        " df=pd.DataFrame({'LI':LI,'LS':LS,'counts':counts,'mc':mc,'freq':freq})\n",
        "\n",
        "#LDA original\n",
        " print(\"informacion LDA original\")\n",
        " print(\"la media es:\",np.mean(LDA))\n",
        " print(\"la varianza es:\",np.var(LDA))\n",
        " print(\"la coeficiente de asimetria es:\",skew(LDA))\n",
        " print(\"la coeficiente de curtosis es:\",kurtosis(LDA))\n",
        "#LDA Muestra\n",
        " print(\"informacion LDA muestreada\")\n",
        " print(\"la media es:\",np.mean(LDAm))\n",
        " print(\"la varianza es:\",np.var(LDAm))\n",
        " print(\"la coeficiente de asimetria es:\",skew(LDAm))\n",
        " print(\"la coeficiente de curtosis es:\",kurtosis(LDAm))\n",
        "\n",
        "#Diferencias entre las metricas\n",
        " dif_u=(np.mean(LDA)-np.mean(LDAm))/np.mean(LDA)\n",
        " print(\"la diferencia porcentual de la media es:\",dif_u*100)\n",
        " dif_v=(np.var(LDA)-np.var(LDAm))/np.var(LDA)\n",
        " print(\"la diferencia porcentual de la varianza es:\",dif_v*100)\n",
        " dif_s=(skew(LDA)-skew(LDAm))/skew(LDA)\n",
        " print(\"la diferencia porcentual de la asimetria es:\",dif_s*100)\n",
        " dif_k=(kurtosis(LDA)-kurtosis(LDAm))/kurtosis(LDA)\n",
        " print(\"la diferencia porcentual de la curtosis es:\",dif_k*100)"
      ],
      "metadata": {
        "colab": {
          "base_uri": "https://localhost:8080/"
        },
        "id": "PjyAcuRIL_g8",
        "outputId": "640165b4-3c5d-436f-a5bd-5d9fa987b35c"
      },
      "execution_count": null,
      "outputs": [
        {
          "output_type": "stream",
          "name": "stdout",
          "text": [
            "Año 1\n",
            "Hoja 5\n",
            "10000\n",
            "informacion LDA original\n",
            "la media es: 55.53415928136799\n",
            "la varianza es: 808.8474818320534\n",
            "la coeficiente de asimetria es: 0.6074481010737891\n",
            "la coeficiente de curtosis es: 0.6938886954460353\n",
            "informacion LDA muestreada\n",
            "la media es: 56.14120181917653\n",
            "la varianza es: 843.2944232760946\n",
            "la coeficiente de asimetria es: [0.58711099]\n",
            "la coeficiente de curtosis es: [0.50830001]\n",
            "la diferencia porcentual de la media es: -1.093097555925736\n",
            "la diferencia porcentual de la varianza es: -4.25876845978654\n",
            "la diferencia porcentual de la asimetria es: [3.34795905]\n",
            "la diferencia porcentual de la curtosis es: [26.7461753]\n",
            "Año 2\n",
            "Hoja 4\n",
            "10000\n",
            "informacion LDA original\n",
            "la media es: 56.30885418289803\n",
            "la varianza es: 771.2403140774804\n",
            "la coeficiente de asimetria es: 0.5654219317544418\n",
            "la coeficiente de curtosis es: 0.3749822454394929\n",
            "informacion LDA muestreada\n",
            "la media es: 55.89296387338858\n",
            "la varianza es: 764.2577286691667\n",
            "la coeficiente de asimetria es: [0.56474585]\n",
            "la coeficiente de curtosis es: [0.38430374]\n",
            "la diferencia porcentual de la media es: 0.7385877683793524\n",
            "la diferencia porcentual de la varianza es: 0.9053709046143388\n",
            "la diferencia porcentual de la asimetria es: [0.11957116]\n",
            "la diferencia porcentual de la curtosis es: [-2.48584935]\n",
            "Año 3\n",
            "Hoja 3\n",
            "10000\n",
            "informacion LDA original\n",
            "la media es: 54.14913274996507\n",
            "la varianza es: 741.704749232986\n",
            "la coeficiente de asimetria es: 0.46219026649218486\n",
            "la coeficiente de curtosis es: 0.18859622645960705\n",
            "informacion LDA muestreada\n",
            "la media es: 54.14182971520905\n",
            "la varianza es: 750.984223070931\n",
            "la coeficiente de asimetria es: [0.48666668]\n",
            "la coeficiente de curtosis es: [0.23703104]\n",
            "la diferencia porcentual de la media es: 0.01348689145169232\n",
            "la diferencia porcentual de la varianza es: -1.2511007712355944\n",
            "la diferencia porcentual de la asimetria es: [-5.29574404]\n",
            "la diferencia porcentual de la curtosis es: [-25.6817533]\n",
            "Año 4\n",
            "Hoja 2\n",
            "10000\n",
            "informacion LDA original\n",
            "la media es: 55.52792809830674\n",
            "la varianza es: 723.4279394056008\n",
            "la coeficiente de asimetria es: 0.3354409078926966\n",
            "la coeficiente de curtosis es: -0.06285449119370945\n",
            "informacion LDA muestreada\n",
            "la media es: 55.52958202959957\n",
            "la varianza es: 728.4669716331946\n",
            "la coeficiente de asimetria es: [0.29575774]\n",
            "la coeficiente de curtosis es: [-0.14897822]\n",
            "la diferencia porcentual de la media es: -0.002978557546574826\n",
            "la diferencia porcentual de la varianza es: -0.6965492971883387\n",
            "la diferencia porcentual de la asimetria es: [11.83015069]\n",
            "la diferencia porcentual de la curtosis es: [-137.02080407]\n"
          ]
        }
      ]
    },
    {
      "cell_type": "markdown",
      "source": [
        "** Analisis de resultados **\n",
        "\n",
        "De acuerdo con muestreo aleatorio las medidas de tendencia central de las LDAm o la distribucion de perdidas agregadas muestreada deberian ser muy parecidos a las medidas de la LDA original en cada uno de los 4 años. La teoria de colas indica que la diferencia entre los parametros de la muestra y el original para la media y varianza cercano al 5% o -5% y para curtosis y asimetria cercano al 10% o -10%. Para este caso el unico año que cumple de forma solvente con todos las medidas fue el año 2 que tuvo una diferencia del 0.73% en la media, 0.90% para la varianza, 0.11% para la asimetria y -2% para la curtosis que esta dentro de los niveles recomendados de la teoria de colas. Para los años 1,3 y 4 se cumplieron las diferencias en las medidas de media, varianza y asimetria pero no se logro la curtosis las cuales para el año 1 fue 26%, año 3 del 25% y año 4 del -137% siendo este el mas preocupante mostrando fallas del muestreo. Se realizaron muchos intentos para ver si las muestra se adecuaba mucho mas a las medidas pero este fue el mejor entre todos los intentos ademas se utilizaron mas clusters para ver si las diferencias mejoraban y funciono para la mayoria de medidas menos para la curtosis"
      ],
      "metadata": {
        "id": "u_ULZNio4WWl"
      }
    }
  ]
}